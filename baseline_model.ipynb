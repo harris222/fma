{
  "nbformat": 4,
  "nbformat_minor": 0,
  "metadata": {
    "colab": {
      "name": "baseline_model.ipynb",
      "provenance": [],
      "collapsed_sections": [],
      "toc_visible": true
    },
    "kernelspec": {
      "name": "python3",
      "display_name": "Python 3"
    }
  },
  "cells": [
    {
      "cell_type": "markdown",
      "metadata": {
        "id": "0S-GOR-YbOoz"
      },
      "source": [
        "# Baseline Modelling with ANN\r\n",
        "\r\n",
        "By: Yolanda Chen\r\n",
        "\r\n",
        "Date: February 23th, 2021"
      ]
    },
    {
      "cell_type": "markdown",
      "metadata": {
        "id": "2L2E0LdQpDak"
      },
      "source": [
        "Resources:\r\n",
        "\r\n",
        "I think we said not to use this, but keeping it here in case we want to quickly train a model: https://scikit-learn.org/stable/modules/generated/sklearn.neural_network.MLPClassifier.html#sklearn.neural_network.MLPClassifier.fit\r\n",
        "\r\n",
        "Again, similar process but we're going to build an ANN similar to what we've built in labs instead: https://medium.com/@sdoshi579/classification-of-music-into-different-genres-using-keras-82ab5339efe0\r\n",
        "\r\n",
        "https://medium.com/@pk_500/music-genre-classification-using-feed-forward-neural-network-using-pytorch-fdb9a960a964"
      ]
    },
    {
      "cell_type": "markdown",
      "metadata": {
        "id": "K7pB2bWHnQV7"
      },
      "source": [
        "**1. Load MFCC data and labels (genre) from JSON**\r\n",
        "\r\n",
        "https://www.programiz.com/python-programming/json\r\n",
        "\r\n",
        "https://www.programiz.com/python-programming/dictionary\r\n",
        "\r\n",
        "https://stackoverflow.com/questions/55109684/how-to-handle-large-json-file-in-pytorch"
      ]
    },
    {
      "cell_type": "code",
      "metadata": {
        "id": "jlPrduEdjXZW"
      },
      "source": [
        "import json\r\n",
        "import torch\r\n",
        "import numpy as np\r\n",
        "import matplotlib.pyplot as plt\r\n",
        "\r\n",
        "import torch.nn as nn\r\n",
        "import torch.nn.functional as F\r\n",
        "import torch.optim as optim\r\n",
        "\r\n",
        "import torchvision.transforms as transforms\r\n",
        "import torchvision.datasets as datasets"
      ],
      "execution_count": 17,
      "outputs": []
    },
    {
      "cell_type": "code",
      "metadata": {
        "id": "EZZ2dSL2TwHT"
      },
      "source": [
        "def get_data_loader(dataset, batch_size):\r\n",
        "\r\n",
        "  \"\"\" 1. Split dataset into training and testing dataset \"\"\"\r\n",
        "\r\n",
        "  # Compute the suitable lengths of the training and testing datasets\r\n",
        "  \r\n",
        "  # TEMP: Set a small dataset\r\n",
        "  num_train_data = int(0.01 * len(dataset))\r\n",
        "  num_test_data = int(len(dataset) - num_train_data)\r\n",
        "\r\n",
        "  # Split dataset into training and testing datasets using random_split\r\n",
        "  train_dataset, test_dataset = torch.utils.data.random_split(dataset, (num_train_data, num_test_data))\r\n",
        "\r\n",
        "\r\n",
        "  \"\"\" 2. Split original training set into a new training set and validation set \"\"\"\r\n",
        "\r\n",
        "  # Randomize list of data indices\r\n",
        "  train_size = len(train_dataset)\r\n",
        "  dataset_indices = list(range(train_size))\r\n",
        "  np.random.seed(1000)\r\n",
        "  np.random.shuffle(dataset_indices)\r\n",
        "\r\n",
        "  # Split into training and testing indices\r\n",
        "  split = int(0.8 * train_size)\r\n",
        "  train_indices, val_indices = dataset_indices[:split], dataset_indices[split:]\r\n",
        "\r\n",
        "  # Split dataset into training and testing datasets using SubsetRandomSampler\r\n",
        "  train_sampler = torch.utils.data.SubsetRandomSampler(train_indices)\r\n",
        "  val_sampler = torch.utils.data.SubsetRandomSampler(val_indices)\r\n",
        "\r\n",
        "  \"\"\" 3. DataLoad the training, validation, and testing sets \"\"\"\r\n",
        "  train_loader = torch.utils.data.DataLoader(dataset=train_dataset, batch_size=batch_size, drop_last=True, sampler=train_sampler)\r\n",
        "  val_loader = torch.utils.data.DataLoader(dataset=train_dataset, batch_size=batch_size, drop_last=True, sampler=val_sampler)\r\n",
        "  test_loader = torch.utils.data.DataLoader(dataset=test_dataset, batch_size=batch_size, drop_last=True)\r\n",
        "\r\n",
        "  return train_loader, val_loader, test_loader"
      ],
      "execution_count": 75,
      "outputs": []
    },
    {
      "cell_type": "code",
      "metadata": {
        "id": "mQW7O_3NHMuU",
        "colab": {
          "base_uri": "https://localhost:8080/"
        },
        "outputId": "9b379416-b4de-4548-cc13-1a29aceb019b"
      },
      "source": [
        "from google.colab import drive\r\n",
        "\r\n",
        "drive.mount('/content/gdrive')"
      ],
      "execution_count": 3,
      "outputs": [
        {
          "output_type": "stream",
          "text": [
            "Mounted at /content/gdrive\n"
          ],
          "name": "stdout"
        }
      ]
    },
    {
      "cell_type": "code",
      "metadata": {
        "id": "LjHt-IxmLrmM"
      },
      "source": [
        "# Load json file\r\n",
        "with open('gdrive/My Drive/APS360 Project/our_spec/our_spec_new.json') as file:\r\n",
        "  data = json.load(file)\r\n",
        "\r\n",
        "# Extract mfcc and labels\r\n",
        "mfcc = data['mfcc']\r\n",
        "labels = data['labels']\r\n",
        "\r\n",
        "#print(mfcc[0])\r\n",
        "#print(labels[0])\r\n",
        "\r\n",
        "# Convert list to tensor and create dataset of mfcc and labels\r\n",
        "dataset = torch.utils.data.TensorDataset(torch.Tensor(mfcc), torch.Tensor(labels))\r\n",
        "train_loader, val_loader, test_loader = get_data_loader(dataset, 1)"
      ],
      "execution_count": 76,
      "outputs": []
    },
    {
      "cell_type": "markdown",
      "metadata": {
        "id": "4ZF92JeL50US"
      },
      "source": [
        "Check input dimensions"
      ]
    },
    {
      "cell_type": "code",
      "metadata": {
        "colab": {
          "base_uri": "https://localhost:8080/"
        },
        "id": "hSCYqjOFdbda",
        "outputId": "b9fbc10a-e7c2-42c2-e56c-7b56f2bae774"
      },
      "source": [
        "print(len(train_loader))\r\n",
        "print(len(val_loader))"
      ],
      "execution_count": 77,
      "outputs": [
        {
          "output_type": "stream",
          "text": [
            "63\n",
            "16\n"
          ],
          "name": "stdout"
        }
      ]
    },
    {
      "cell_type": "markdown",
      "metadata": {
        "id": "HFeEk7O0rimE"
      },
      "source": [
        "**2. Multiclass-ANN Architecture**\r\n",
        "\r\n",
        "Similar to what has been done in labs\r\n",
        "\r\n",
        "Need to modify input size to match the input dimensions\r\n",
        "\r\n",
        "Start off with a small network just to check"
      ]
    },
    {
      "cell_type": "code",
      "metadata": {
        "id": "pt7x_847tO5c"
      },
      "source": [
        "class GenreClassifier(nn.Module):\r\n",
        "    def __init__(self):\r\n",
        "        super(GenreClassifier, self).__init__()\r\n",
        "        self.layer1 = nn.Linear(880, 50)\r\n",
        "        self.layer2 = nn.Linear(50, 20)\r\n",
        "        self.layer3 = nn.Linear(20, 8) # 8 genres\r\n",
        "    def forward(self, input):\r\n",
        "        flattened = input.view(-1, 880)\r\n",
        "        activation1 = F.relu(self.layer1(flattened))\r\n",
        "        activation2 = F.relu(self.layer2(activation1))\r\n",
        "        output = self.layer3(activation2)\r\n",
        "        return output"
      ],
      "execution_count": 80,
      "outputs": []
    },
    {
      "cell_type": "code",
      "metadata": {
        "id": "rwB1RXDB3l8y"
      },
      "source": [
        "def get_accuracy(model, train=False):\r\n",
        "\r\n",
        "    correct = 0\r\n",
        "    total = 0\r\n",
        "\r\n",
        "    if train == True:\r\n",
        "      data = train_loader\r\n",
        "    else:\r\n",
        "      data = val_loader\r\n",
        "\r\n",
        "    for input, labels in data:\r\n",
        "        output = model(input)\r\n",
        "\r\n",
        "        #select index with maximum prediction score\r\n",
        "        pred = output.max(1, keepdim=True)[1]\r\n",
        "        correct += pred.eq(labels.view_as(pred)).sum().item()\r\n",
        "        total += input.shape[0]\r\n",
        "        \r\n",
        "    return correct / total"
      ],
      "execution_count": 22,
      "outputs": []
    },
    {
      "cell_type": "code",
      "metadata": {
        "id": "2Yk2wuIv3nGu"
      },
      "source": [
        "def train(model, train_loader, batch_size=64, num_epochs=1):\r\n",
        "\r\n",
        "    criterion = nn.CrossEntropyLoss()\r\n",
        "    optimizer = optim.SGD(model.parameters(), lr=0.01, momentum=0.9)\r\n",
        "\r\n",
        "    iters, losses, train_acc, val_acc = [], [], [], []\r\n",
        "\r\n",
        "    # training\r\n",
        "    n = 0 # the number of iterations\r\n",
        "    for epoch in range(num_epochs):\r\n",
        "        for input, labels in iter(train_loader):\r\n",
        "            out = model(input)            # forward pass\r\n",
        "\r\n",
        "            #print(out)\r\n",
        "            #print(labels.long())\r\n",
        "\r\n",
        "            loss = criterion(out, labels.long()) # compute the total loss\r\n",
        "            loss.backward()               # backward pass (compute parameter updates)\r\n",
        "            optimizer.step()              # make the updates for each parameter\r\n",
        "            optimizer.zero_grad()         # a clean up step for PyTorch\r\n",
        "\r\n",
        "            # save the current training information\r\n",
        "            iters.append(n)\r\n",
        "            losses.append(float(loss)/batch_size)             # compute *average* loss\r\n",
        "            train_acc.append(get_accuracy(model, train=True)) # compute training accuracy \r\n",
        "            val_acc.append(get_accuracy(model, train=False))  # compute validation accuracy\r\n",
        "            n += 1\r\n",
        "\r\n",
        "    # plotting\r\n",
        "    plt.title(\"Training Curve\")\r\n",
        "    plt.plot(iters, losses, label=\"Train\")\r\n",
        "    plt.xlabel(\"Iterations\")\r\n",
        "    plt.ylabel(\"Loss\")\r\n",
        "    plt.show()\r\n",
        "\r\n",
        "    plt.title(\"Training Curve\")\r\n",
        "    plt.plot(iters, train_acc, label=\"Train\")\r\n",
        "    plt.plot(iters, val_acc, label=\"Validation\")\r\n",
        "    plt.xlabel(\"Iterations\")\r\n",
        "    plt.ylabel(\"Training Accuracy\")\r\n",
        "    plt.legend(loc='best')\r\n",
        "    plt.show()\r\n",
        "\r\n",
        "    print(\"Final Training Accuracy: {}\".format(train_acc[-1]))\r\n",
        "    print(\"Final Validation Accuracy: {}\".format(val_acc[-1]))"
      ],
      "execution_count": 106,
      "outputs": []
    },
    {
      "cell_type": "markdown",
      "metadata": {
        "id": "5bnHMfZGZwYi"
      },
      "source": [
        "**4. Training**\r\n",
        "\r\n",
        "Sanity check with small dataset"
      ]
    },
    {
      "cell_type": "code",
      "metadata": {
        "id": "jXi_bmY_Z3ja",
        "colab": {
          "base_uri": "https://localhost:8080/",
          "height": 608
        },
        "outputId": "20044763-d82b-440c-a042-7710bf26057e"
      },
      "source": [
        "model = GenreClassifier()\r\n",
        "train(model, train_loader, batch_size=1, num_epochs=1)"
      ],
      "execution_count": 107,
      "outputs": [
        {
          "output_type": "display_data",
          "data": {
            "image/png": "[encoded data removed]",
            "text/plain": [
              "<Figure size 432x288 with 1 Axes>"
            ]
          },
          "metadata": {
            "tags": [],
            "needs_background": "light"
          }
        },
        {
          "output_type": "display_data",
          "data": {
            "image/png": "[encoded data removed]",
            "text/plain": [
              "<Figure size 432x288 with 1 Axes>"
            ]
          },
          "metadata": {
            "tags": [],
            "needs_background": "light"
          }
        },
        {
          "output_type": "stream",
          "text": [
            "Final Training Accuracy: 0.2222222222222222\n",
            "Final Validation Accuracy: 0.375\n"
          ],
          "name": "stdout"
        }
      ]
    }
  ]
}